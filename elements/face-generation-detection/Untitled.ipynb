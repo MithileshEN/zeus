{
 "cells": [
  {
   "cell_type": "code",
   "execution_count": 1,
   "id": "1a27c394",
   "metadata": {},
   "outputs": [
    {
     "ename": "ModuleNotFoundError",
     "evalue": "No module named 'tensorflow'",
     "output_type": "error",
     "traceback": [
      "\u001b[1;31m---------------------------------------------------------------------------\u001b[0m",
      "\u001b[1;31mModuleNotFoundError\u001b[0m                       Traceback (most recent call last)",
      "Cell \u001b[1;32mIn[1], line 1\u001b[0m\n\u001b[1;32m----> 1\u001b[0m \u001b[38;5;28;01mimport\u001b[39;00m \u001b[38;5;21;01mtensorflow\u001b[39;00m \u001b[38;5;28;01mas\u001b[39;00m \u001b[38;5;21;01mtf\u001b[39;00m\n\u001b[0;32m      2\u001b[0m \u001b[38;5;28;01mimport\u001b[39;00m \u001b[38;5;21;01mnumpy\u001b[39;00m \u001b[38;5;28;01mas\u001b[39;00m \u001b[38;5;21;01mnp\u001b[39;00m\n\u001b[0;32m      3\u001b[0m \u001b[38;5;28;01mfrom\u001b[39;00m \u001b[38;5;21;01mtensorflow\u001b[39;00m\u001b[38;5;21;01m.\u001b[39;00m\u001b[38;5;21;01mkeras\u001b[39;00m \u001b[38;5;28;01mimport\u001b[39;00m Sequential\n",
      "\u001b[1;31mModuleNotFoundError\u001b[0m: No module named 'tensorflow'"
     ]
    }
   ],
   "source": [
    "import tensorflow as tf\n",
    "import numpy as np\n",
    "from tensorflow.keras import Sequential\n",
    "from tensorflow.keras.layers import Flatten, Dense, Conv2D, MaxPool2D, Dropout\n",
    "from tensorflow.keras.preprocessing.image import ImageDataGenerator\n",
    "\n",
    "img_width = 256 # TODO: change this\n",
    "img_height = 256 # TODO: change this\n",
    "\n",
    "datagen = ImageDataGenerator(rescale=1/255.0, validation_split=0.2)\n",
    "training_data_generator = datagen.flow_from_directory(directory='real_and_fake_face', target_size=(img_width, img_height), class_mode='binary', batch_size=16, subset='training')\n",
    "validation_data_generator = datagen.flow_from_directory(directory='real_and_fake_face', target_size=(img_width, img_height), class_mode='binary', batch_size=16, subset='validation')\n",
    "\n",
    "model = Sequential([\n",
    "\tConv2D(16, (3, 3), input_shape=(img_width, img_height, 3), activation='relu'),\n",
    "\tMaxPool2D(2, 2),\n",
    "\tDropout(0.2),\n",
    "\n",
    "\tConv2D(32, (3, 3), activation='relu'),\n",
    "\tMaxPool2D(2, 2),\n",
    "\tDropout(0.3),\n",
    "\n",
    "\tConv2D(64, (3, 3), activation='relu'),\n",
    "\tMaxPool2D(2, 2),\n",
    "\tDropout(0.5),\n",
    "\n",
    "\tFlatten(),\n",
    "\tDense(128, activation='relu'),\n",
    "\tDense(128, activation='relu'),\n",
    "\tDense(128, activation='relu'),\n",
    "\tDropout(0.5),\n",
    "\tDense(1, activation='sigmoid')\n",
    "])\n",
    "\n",
    "model.compile(optimizer='adam', loss='binary_crossentropy', metrics=['accuracy'])\n",
    "history = model.fit(training_data_generator, steps_per_epoch=len(training_data_generator), epochs=15, validation_data=validation_data_generator, validation_steps=len(validation_data_generator))\n"
   ]
  },
  {
   "cell_type": "code",
   "execution_count": null,
   "id": "a3a1778a",
   "metadata": {},
   "outputs": [],
   "source": []
  }
 ],
 "metadata": {
  "kernelspec": {
   "display_name": "Python 3 (ipykernel)",
   "language": "python",
   "name": "python3"
  },
  "language_info": {
   "codemirror_mode": {
    "name": "ipython",
    "version": 3
   },
   "file_extension": ".py",
   "mimetype": "text/x-python",
   "name": "python",
   "nbconvert_exporter": "python",
   "pygments_lexer": "ipython3",
   "version": "3.11.5"
  }
 },
 "nbformat": 4,
 "nbformat_minor": 5
}
